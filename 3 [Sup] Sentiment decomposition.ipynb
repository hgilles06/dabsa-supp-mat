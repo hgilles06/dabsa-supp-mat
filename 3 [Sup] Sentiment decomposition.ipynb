{
 "cells": [
  {
   "cell_type": "code",
   "execution_count": null,
   "metadata": {},
   "outputs": [],
   "source": [
    "from sklearn.feature_extraction.text import TfidfVectorizer, CountVectorizer\n",
    "import pandas as pd\n",
    "import numpy as np\n",
    "from scipy import sparse\n",
    "\n",
    "from sklearn.linear_model import Lasso, LinearRegression\n",
    "from gensim.utils import simple_preprocess\n",
    "from threading import Thread, RLock\n",
    "\n",
    "import xgboost\n",
    "import shap\n",
    "\n",
    "from matplotlib import pyplot as plt\n",
    "\n",
    "import seaborn as sns\n",
    "sns.set(style=\"whitegrid\")"
   ]
  },
  {
   "cell_type": "code",
   "execution_count": null,
   "metadata": {},
   "outputs": [],
   "source": [
    "%%time\n",
    "article_df = pd.read_csv(\"data//articles.csv\")\n",
    "article_df.head()"
   ]
  },
  {
   "cell_type": "code",
   "execution_count": null,
   "metadata": {},
   "outputs": [],
   "source": [
    "article_df.shape"
   ]
  },
  {
   "cell_type": "code",
   "execution_count": null,
   "metadata": {},
   "outputs": [],
   "source": [
    "article_df[\"quarter\"] = article_df.month.apply(lambda month: np.ceil(month/3)) \n",
    "article_df.head()"
   ]
  },
  {
   "cell_type": "code",
   "execution_count": null,
   "metadata": {},
   "outputs": [],
   "source": [
    "aspects_words_df = pd.read_csv(\"data\\\\aspects.csv\")\n",
    "aspects_words_df"
   ]
  },
  {
   "cell_type": "code",
   "execution_count": null,
   "metadata": {},
   "outputs": [],
   "source": [
    "aspects_words = list(set(aspects_words_df.words.sum()))\n",
    "\n",
    "aspects_words2 = []\n",
    "\n",
    "bigrams_list = []\n",
    "\n",
    "for i,word in enumerate(aspects_words): \n",
    "    \n",
    "        \n",
    "    if len(word.split(\"_\"))>1:\n",
    "        bigram=True\n",
    "    else:\n",
    "        bigram=False\n",
    "    \n",
    "    if bigram:\n",
    "        bigrams_list.append(\" \".join(word.split(\"_\")))\n",
    "    else:\n",
    "        aspects_words2.append(word)\n",
    "        \n",
    "aspects_words = list(set((aspects_words2+bigrams_list)))\n"
   ]
  },
  {
   "cell_type": "code",
   "execution_count": null,
   "metadata": {},
   "outputs": [],
   "source": [
    "len(aspects_words)"
   ]
  },
  {
   "cell_type": "code",
   "execution_count": null,
   "metadata": {},
   "outputs": [],
   "source": [
    "aspects_words_dict = {word:i for i,word in enumerate(aspects_words)}\n",
    "vectorizer_aspects_words = TfidfVectorizer(vocabulary=aspects_words_dict, ngram_range=(1,2), tokenizer=simple_preprocess)\n",
    "\n",
    "\n",
    "#loading sentiment words \n",
    "feel_df = pd.read_csv(\"data\\\\FEEL_modified.csv\", encoding=\"utf-8\")\n",
    "#creating a dictionary with sentiment words\n",
    "sentiment_dict = dict(list(zip(feel_df.word, range(len(feel_df)))))\n",
    "\n",
    "#Building a dictionary of words with the sentiment words\n",
    "vectorizer_sent = CountVectorizer(vocabulary=sentiment_dict)\n",
    "\n",
    "\n",
    "def GetGlobalSent_WordFreq(articles, bigrams=None):\n",
    "    \n",
    "    \"\"\"\n",
    "    articles : a vector of articles\n",
    "    \"\"\"\n",
    "    \n",
    "    #word frequencies per article (sum in column)\n",
    "    article_vector_mat = vectorizer_aspects_words.fit_transform(articles)\n",
    "    article_vector_df = pd.DataFrame(article_vector_mat.todense(), columns = aspects_words) \n",
    "    \n",
    "    \n",
    "    #aspect_count_article = article_vector_mat\n",
    "    \n",
    "    #fitting the articles to get one vector of sentiment words per article \n",
    "    article_sentiment_mat = vectorizer_sent.transform(articles)\n",
    "    \n",
    "    ##Number of recognized words (in sentiment disctionary) in each article\n",
    "    #summing in lines\n",
    "    nbwords_article_vector = article_sentiment_mat.sum(axis=1) + 0.0001 #avoiding to divide by 0\n",
    "    nbwords_article_vector = sparse.csr_matrix(nbwords_article_vector)\n",
    "    \n",
    "    \n",
    "    #Product of the fitted matrix with polarity vector\n",
    "    feel_vector = sparse.csr_matrix(feel_df.sentiment.values.reshape(12011,1))\n",
    "    global_sent_vector = article_sentiment_mat.dot(feel_vector)\n",
    "    global_sent_vector = global_sent_vector/nbwords_article_vector  \n",
    "    global_sent_df = pd.DataFrame(global_sent_vector, columns = [\"global_sent\"])\n",
    "    \n",
    "    \n",
    "    return pd.concat([global_sent_df, article_vector_df], axis=1)\n",
    "\n",
    "\n",
    "    "
   ]
  },
  {
   "cell_type": "markdown",
   "metadata": {},
   "source": [
    "#### Parallelization"
   ]
  },
  {
   "cell_type": "code",
   "execution_count": null,
   "metadata": {},
   "outputs": [],
   "source": [
    "\n",
    "def GetGlobalSent_WordFreqYear(year):\n",
    "    \n",
    "    results_df =  pd.DataFrame(columns=[\"year\", \"quarter\", \"global_sent\"] + list(aspects_words))\n",
    "    \n",
    "    for quarter in range(1,5):\n",
    "        \n",
    "        \n",
    "        print(\"Year {} : quarter {}\".format(year, quarter))\n",
    "        \n",
    "        articles = article_df.loc[(article_df.quarter==quarter)&(article_df.year==year),\"article\"]\n",
    "        result_df =  GetGlobalSent_WordFreq(articles)\n",
    "        result_df[\"year\"] = year\n",
    "        result_df[\"quarter\"] = quarter\n",
    "        \n",
    "        results_df = pd.concat([results_df, result_df], axis=0, sort=False)\n",
    "        \n",
    "    return results_df\n",
    "\n",
    "\n",
    "lock = RLock()\n",
    "class ThreadGetGlobalSent(Thread):\n",
    "    \n",
    "    \n",
    "    def __init__(self, year):\n",
    "        \n",
    "        Thread.__init__(self)\n",
    "        self.year = year        \n",
    "        \n",
    "    def run(self):\n",
    "        \n",
    "        global results_df\n",
    "        \n",
    "        year = self.year\n",
    "        self.results_df = GetGlobalSent_WordFreqYear(year)\n",
    "            \n",
    "        #adding the generated data to the whole one; \"with lock\" is used to only give access to one thread at once\n",
    "        with lock:\n",
    "            results_df = pd.concat([results_df, self.results_df], axis=0, sort=False)\n",
    "        \n",
    "    "
   ]
  },
  {
   "cell_type": "code",
   "execution_count": null,
   "metadata": {},
   "outputs": [],
   "source": [
    "%%time\n",
    "\n",
    "results_df =  pd.DataFrame(columns=[\"year\", \"quarter\", \"global_sent\"] + list(aspects_words))\n",
    "years = range(2000,2021)\n",
    "\n",
    "Thread_dict = {}\n",
    "for year in years:\n",
    "    Thread_dict[year] = ThreadGetGlobalSent(year)\n",
    "\n",
    "for year in years:\n",
    "    Thread_dict[year].start()\n",
    "\n",
    "\n",
    "for year in years:\n",
    "    Thread_dict[year].join()\n",
    "\n"
   ]
  },
  {
   "cell_type": "code",
   "execution_count": null,
   "metadata": {},
   "outputs": [],
   "source": [
    "results_df = results_df.sort_values(by=[\"year\",\"quarter\"]).reset_index(drop=True)\n",
    "results_df"
   ]
  },
  {
   "cell_type": "code",
   "execution_count": null,
   "metadata": {},
   "outputs": [],
   "source": [
    "results_df.shape"
   ]
  },
  {
   "cell_type": "code",
   "execution_count": null,
   "metadata": {},
   "outputs": [],
   "source": [
    "results_df.global_sent.hist()"
   ]
  },
  {
   "cell_type": "code",
   "execution_count": null,
   "metadata": {},
   "outputs": [],
   "source": [
    "results_df.to_csv(\"data/results.csv\", index=None)"
   ]
  },
  {
   "cell_type": "markdown",
   "metadata": {},
   "source": [
    "# Aggreagating words' TD-IF per aspects (topics)"
   ]
  },
  {
   "cell_type": "code",
   "execution_count": null,
   "metadata": {},
   "outputs": [],
   "source": [
    "#%%time\n",
    "#stop_words = [\"ça\", \"dès\",\"oui\",\"né\",\"mêmes\",\"mis\",\"michel\",\"façon\",\"ci\"]\n",
    "\n",
    "n_aspects = aspects_words_df.shape[0]\n",
    "aspect_list = list(aspects_words_df.aspect_name.values) #[\"aspect%s\"%i for i in range(n_aspects)]\n",
    "\n",
    "aspects_tfid_df = pd.DataFrame(columns= [\"year\", \"quarter\"] + aspect_list)\n",
    "aspects_tfid_df[\"year\"] = results_df[\"year\"]\n",
    "aspects_tfid_df[\"quarter\"] = results_df[\"quarter\"]\n",
    "\n",
    "for i in range(n_aspects):\n",
    "    words = aspects_words_df.words[i]\n",
    "    words = [\" \".join(word.split(\"_\")) for word in words if word]\n",
    "    aspects_words_df.loc[i,\"n_final_nwords\"] = len(words)\n",
    "    \n",
    "    aspects_tfid_df.loc[:, aspect_list[i]] = results_df[words].mean(axis=1)\n",
    "\n"
   ]
  },
  {
   "cell_type": "code",
   "execution_count": null,
   "metadata": {},
   "outputs": [],
   "source": [
    "aspects_words_df.head()"
   ]
  },
  {
   "cell_type": "code",
   "execution_count": null,
   "metadata": {},
   "outputs": [],
   "source": [
    "#%%time\n",
    "\n",
    "nrows=4\n",
    "ncols=4\n",
    "aspect_list = aspects_tfid_df.columns[2:]\n",
    "fig, ax = plt.subplots(nrows=nrows,ncols=ncols, figsize=(18,14))\n",
    "\n",
    "line=0\n",
    "col =0\n",
    "pos = 0\n",
    "\n",
    "aspects_tfid_groupby_df = aspects_tfid_df.groupby([\"year\",\"quarter\"]).mean()\n",
    "year_quarter_list = [\"%s-%s\"%(year, quarter) for (year, quarter) in aspects_tfid_groupby_df.index]\n",
    "\n",
    "for i,aspect in enumerate(aspect_list):\n",
    "\n",
    "    if pos==12:\n",
    "        col+=1\n",
    "        pos+=1\n",
    "        \n",
    "    ax[line,col].plot(aspects_tfid_groupby_df[aspect].values)\n",
    "\n",
    "    ax.flat[pos].set_title(aspect)\n",
    "    \n",
    "    ax.flat[pos].label_outer()\n",
    "    \n",
    "    \n",
    "    if ((col+1)%ncols==0):\n",
    "        line+=1\n",
    "        col=0\n",
    "\n",
    "    else:\n",
    "        col+=1\n",
    "\n",
    "    pos+=1\n",
    "\n",
    "    \n",
    "for ax in fig.axes:\n",
    "    plt.sca(ax)\n",
    "    plt.xticks(ticks= range(0, 81, 4), labels=range(2000,2021), rotation=90)\n",
    "    plt.yticks(rotation=0)\n",
    "    \n",
    "plt.savefig(\"Redaction\\\\pics\\\\aspect_tfidf.png\")\n",
    "plt.show()"
   ]
  },
  {
   "cell_type": "code",
   "execution_count": null,
   "metadata": {},
   "outputs": [],
   "source": [
    "plt.figure(figsize=(14,8))\n",
    "plt.plot(aspects_tfid_groupby_df.mean(axis=1).values)\n",
    "plt.xticks(ticks= range(0, 81, 4), labels=range(2000,2021), rotation=90)\n",
    "plt.yticks(rotation=0)\n",
    "plt.show()"
   ]
  },
  {
   "cell_type": "code",
   "execution_count": null,
   "metadata": {},
   "outputs": [],
   "source": [
    "aspects_tfid_df.shape"
   ]
  },
  {
   "cell_type": "markdown",
   "metadata": {},
   "source": [
    "# Sentiment decomposition whith Shapley values"
   ]
  },
  {
   "cell_type": "markdown",
   "metadata": {},
   "source": [
    "#### Global sentiment representation"
   ]
  },
  {
   "cell_type": "code",
   "execution_count": null,
   "metadata": {},
   "outputs": [],
   "source": [
    "def rescale(x):\n",
    "    return (x - x.mean())/x.std()"
   ]
  },
  {
   "cell_type": "code",
   "execution_count": null,
   "metadata": {},
   "outputs": [],
   "source": [
    "plt.figure( figsize=(20,10) )\n",
    "\n",
    "agg_global_sent_scale = rescale(results_df.groupby([\"year\",\"quarter\"]).mean()[\"global_sent\"].values)\n",
    "plt.plot(agg_global_sent_scale)\n",
    "\n",
    "\n",
    "\n",
    "#Early 2000s recession\n",
    "plt.axvspan(0, 16, facecolor='black', alpha=0.1)\n",
    "plt.text(7,0.58, \"Early 2000s Recession\", color=\"red\", rotation=90, fontdict={\"size\":20})\n",
    "\n",
    "\n",
    "#Great Recession\n",
    "plt.axvspan(28, 36, facecolor='black', alpha=0.2)\n",
    "plt.text(31,-2, \"Great Recession\", color=\"red\",  rotation=90, fontdict={\"size\":20})\n",
    "\n",
    "#Euro crisis\n",
    "plt.axvspan(40, 48, facecolor='black', alpha=0.1)\n",
    "plt.text(43,0, \"Euro Crisis\", color=\"red\",  rotation=90, fontdict={\"size\":20})\n",
    "\n",
    "\n",
    "\n",
    "#World cup\n",
    "plt.axvspan(72, 74, facecolor='black', alpha=0.2)\n",
    "plt.text(72.5,-1, \"World Cup\", color=\"blue\", rotation=90, fontdict={\"size\":20})\n",
    "\n",
    "#Yellow vest\n",
    "plt.axvspan(75, 79, facecolor='black', alpha=0.1)\n",
    "plt.text(76,-1.5, \"Yellow vest\", color=\"red\",  rotation=90, fontdict={\"size\":20})\n",
    "\n",
    "\n",
    "#Covid crisis\n",
    "plt.axvspan(79, 84, facecolor='black', alpha=0.2)\n",
    "plt.text(80,0, \"Covid-19\", color=\"red\",  rotation=90, fontdict={\"size\":20})\n",
    "\n",
    "plt.xticks( range(0,82, 4), [\"Q1-%s\"%year for year in range(2000,2021)], rotation='vertical')\n",
    "#plt.legend()\n",
    "plt.savefig(r\"Redaction\\pics\\global_sent.png\")\n",
    "plt.show()"
   ]
  },
  {
   "cell_type": "code",
   "execution_count": null,
   "metadata": {},
   "outputs": [],
   "source": [
    "results_df[\"global_sent_rescaled\"] = (results_df.global_sent - results_df.global_sent.mean())/results_df.global_sent.std()\n",
    "results_df[\"global_sent_rescaled\"].head()"
   ]
  },
  {
   "cell_type": "code",
   "execution_count": null,
   "metadata": {},
   "outputs": [],
   "source": [
    "%%time\n",
    "shap_values_dict = {}\n",
    "\n",
    "for year in range(2000,2021):\n",
    "    print(year)\n",
    "    for quarter in range(1,5):\n",
    "        \n",
    "            \n",
    "        select = (results_df.year==year)&(results_df.quarter==quarter)\n",
    "\n",
    "        #X,y = np.log(aspects_tfid_df.iloc[:, 2:][select]+0.0001) , results_df.global_sent_rescaled.loc[select]\n",
    "        X,y = aspects_tfid_df.iloc[:, 2:][select] , results_df.global_sent_rescaled.loc[select]\n",
    "        model = xgboost.train(params={\"learning_rate\": 0.01}, dtrain=xgboost.DMatrix(X, label=y), num_boost_round=1000)\n",
    "        explainer = shap.TreeExplainer(model)\n",
    "        shap_values = explainer.shap_values(X)\n",
    "        \n",
    "        shap_values_dict[\"%s-%s\"%(year, quarter)] = shap_values"
   ]
  },
  {
   "cell_type": "code",
   "execution_count": null,
   "metadata": {},
   "outputs": [],
   "source": [
    "shap_values_dict"
   ]
  },
  {
   "cell_type": "code",
   "execution_count": null,
   "metadata": {},
   "outputs": [],
   "source": [
    "%%time\n",
    "#putting shap values in data frames \n",
    "\n",
    "shap_values_df_all =  pd.DataFrame(columns=aspect_list)\n",
    "\n",
    "for year in range(2000,2021):\n",
    "    print(year)\n",
    "    for quarter in range(1,5):\n",
    "        \n",
    "\n",
    "        shap_values_df = pd.DataFrame(shap_values_dict[\"%s-%s\"%(year, quarter)] , columns=aspect_list)\n",
    "        shap_values_df[\"year\"] = year\n",
    "        shap_values_df[\"quarter\"] = quarter\n",
    "        \n",
    "        #shap_values_df_dict[\"%s-%s\"%(year, quarter)] = shap_values_df\n",
    "        shap_values_df_all = pd.concat([shap_values_df_all, shap_values_df], axis=0)"
   ]
  },
  {
   "cell_type": "code",
   "execution_count": null,
   "metadata": {},
   "outputs": [],
   "source": [
    "shap_values_df_all = shap_values_df_all.set_index(keys=[\"year\",\"quarter\"])\n",
    "shap_values_df_all"
   ]
  },
  {
   "cell_type": "code",
   "execution_count": null,
   "metadata": {},
   "outputs": [],
   "source": [
    "aspects_tfid_df = aspects_tfid_df.set_index(keys=[\"year\",\"quarter\"])"
   ]
  },
  {
   "cell_type": "markdown",
   "metadata": {},
   "source": [
    "#### Decomposition representation"
   ]
  },
  {
   "cell_type": "code",
   "execution_count": null,
   "metadata": {},
   "outputs": [],
   "source": [
    "#%%time\n",
    "\n",
    "nrows=4\n",
    "ncols=5\n",
    "\n",
    "fig, ax = plt.subplots(nrows=nrows,ncols=ncols, figsize=(24,24))\n",
    "\n",
    "shap_year_dict = {}\n",
    "\n",
    "line=0\n",
    "col =0\n",
    "pos = 0\n",
    "\n",
    "plt.rc('text', usetex=True)\n",
    "\n",
    "for year in range(2000,2020):\n",
    "\n",
    "    #contrib_df_year = pd.concat([ contrib_df_dict[period] for period in [\"%s-%s\"%(year, quarter) for quarter in range(1,5)]], axis = 1)\n",
    "    shap_year = shap_values_df_all.loc[(year, ),:]\n",
    "    \n",
    "    \n",
    "    shap_year_dict[year] = shap_year.mean(axis=0)\n",
    "\n",
    "\n",
    "    color = list(map(lambda value: \"r\" if value<0.0 else \"b\", shap_year_dict[year].values)) \n",
    "\n",
    "    ax[line,col].bar(aspect_list, shap_year_dict[year].values, color= color )\n",
    "\n",
    "    ax.flat[pos].set_title(year)\n",
    "    #ax.flat[pos].tick_params(labelrotation=60)\n",
    "    \n",
    "    #ax.flat[pos].label_outer()\n",
    "    \n",
    "    select = (results_df.year==year)\n",
    "    globa_sent = results_df.loc[select, \"global_sent_rescaled\"].mean()\n",
    "    ax.flat[pos].text(4., shap_year_dict[year].min()-0.00005, r\"\\textbf{GlobalSent = %s}\"%round(globa_sent,2), fontsize=15)\n",
    "    \n",
    "    if ((col+1)%ncols==0):\n",
    "        line+=1\n",
    "        col=0\n",
    "\n",
    "    else:\n",
    "        col+=1\n",
    "\n",
    "    pos+=1\n",
    "\n",
    "    \n",
    "for ax in fig.axes:\n",
    "    plt.sca(ax)\n",
    "    plt.xticks(rotation=40, ha=\"right\")\n",
    "    plt.yticks(rotation=0)\n",
    "    \n",
    "    \n",
    "plt.savefig(\"Redaction\\pics\\sent_year_decomp.png\")\n",
    "plt.show()"
   ]
  },
  {
   "cell_type": "code",
   "execution_count": null,
   "metadata": {},
   "outputs": [],
   "source": [
    "%%time\n",
    "\n",
    "nrows=2\n",
    "ncols=2\n",
    "\n",
    "fig, ax = plt.subplots(nrows=nrows,ncols=ncols, figsize=(14,8))\n",
    "\n",
    "shap_period_dict = {}\n",
    "\n",
    "line=0\n",
    "col =0\n",
    "pos = 0\n",
    "\n",
    "\n",
    "year = 2020\n",
    "plt.rc('text', usetex=True)\n",
    "\n",
    "for quarter in range(1,5):\n",
    "    \n",
    "    period = (year, quarter) \n",
    "    \n",
    "    shap_period = shap_values_df_all.loc[period,:]\n",
    "    \n",
    "    \n",
    "    shap_period_dict[period] = shap_period.mean(axis=0).values\n",
    "\n",
    "\n",
    "    color = list(map(lambda value: \"r\" if value<0.0 else \"b\", shap_period_dict[period])) \n",
    "\n",
    "    ax[line,col].bar(aspect_list, shap_period_dict[period], color= color )\n",
    "    \n",
    "    ax.flat[pos].set_title(f\"Q{quarter}-{year}\")\n",
    "    #ax.flat[pos].tick_params(labelrotation=90)\n",
    "    \n",
    "    ax.flat[pos].label_outer()\n",
    "    \n",
    "    select = (results_df.year==year)&(results_df.quarter==quarter)\n",
    "    globa_sent = results_df.loc[select, \"global_sent_rescaled\"].mean()\n",
    "    \n",
    "    ax.flat[pos].text(4.5, shap_period_dict[period].min()-0.00005, r\"\\textbf{GlobalSent = %s}\"%round(globa_sent,2), fontsize=15)\n",
    "    \n",
    "    if ((col+1)%ncols==0):\n",
    "        line+=1\n",
    "        col=0\n",
    "\n",
    "    else:\n",
    "        col+=1\n",
    "\n",
    "    pos+=1\n",
    "\n",
    " \n",
    "for ax in fig.axes:\n",
    "    plt.sca(ax)\n",
    "    plt.xticks(rotation=90)\n",
    "    plt.yticks(rotation=0)\n",
    "\n",
    "\n",
    "plt.savefig(\"Redaction\\\\pics\\\\sent_quarter_decomp.png\")\n",
    "plt.show()"
   ]
  },
  {
   "cell_type": "markdown",
   "metadata": {},
   "source": [
    "# Some graphics"
   ]
  },
  {
   "cell_type": "code",
   "execution_count": null,
   "metadata": {},
   "outputs": [],
   "source": [
    "def rescale(x):\n",
    "    return (x - x.mean())/x.std()"
   ]
  },
  {
   "cell_type": "code",
   "execution_count": null,
   "metadata": {},
   "outputs": [],
   "source": [
    "gdp_df = pd.read_csv(\"data\\\\gdp_france.csv\", sep=\";\")\n",
    "gdp_df = gdp_df[[\"TIME\",\"Value\"]]\n",
    "gdp_df.columns=[\"year_quarter\", \"gdp_growth\" ]\n",
    "gdp_df[\"gdp_growth_norm\"] = rescale(gdp_df.gdp_growth)\n",
    "gdp_df.head()"
   ]
  },
  {
   "cell_type": "code",
   "execution_count": null,
   "metadata": {},
   "outputs": [],
   "source": [
    "cli_oecd_df = pd.read_csv(\"data/composite_oecd.csv\",sep=\";\")\n",
    "\n",
    "cli_oecd_df[\"month\"] = cli_oecd_df.TIME.apply(lambda time: int(time[-2:]))\n",
    "cli_oecd_df[\"year\"] = cli_oecd_df.TIME.apply(lambda time: int(time[:4]))\n",
    "\n",
    "cli_oecd_df[\"quarter\"] = cli_oecd_df[\"month\"].apply(get_quarter) \n",
    "\n",
    "cli_oecd_df.Value = (cli_oecd_df.Value - 100)/100\n",
    "#cli_oecd_df[\"Value_norm\"] = (cli_oecd_df.Value  - cli_oecd_df.Value.mean())/cli_oecd_df.Value.std()\n",
    "\n",
    "cli_oecd_norm_quarter = cli_oecd_df.groupby([\"year\", \"quarter\"])[\"Value\"].mean().to_frame()\n",
    "cli_oecd_norm_quarter[\"cli_norm\" ] = rescale(cli_oecd_norm_quarter.Value) \n",
    "cli_oecd_norm_quarter[\"cli_norm_1\" ] = cli_oecd_norm_quarter[\"cli_norm\" ].shift(1)\n",
    "cli_oecd_norm_quarter.head()"
   ]
  },
  {
   "cell_type": "code",
   "execution_count": null,
   "metadata": {},
   "outputs": [],
   "source": [
    "plt.figure( figsize=(12,6) )\n",
    "#plt.plot(busi_oecd_norm_quarter.busi_norm.values, color=\"red\", label=\"BCI\")\n",
    "#plt.plot(cons_oecd_norm_quarter.cons_norm.values, color=\"green\", label=\"CCI\")\n",
    "plt.plot(cli_oecd_norm_quarter.cli_norm.values, color=\"blue\", label=\"CLI\")\n",
    "plt.plot(gdp_df.gdp_growth_norm.values, color=\"black\", label=\"GDP growth rate\")\n",
    "\n",
    "\n",
    "plt.xticks( range(0,82, 4), [\"Q1-%s\"%year for year in range(2000,2021)], rotation='vertical')\n",
    "plt.legend()\n",
    "plt.savefig(\"Redaction\\pics\\oecd_indexes.png\")\n",
    "plt.show()"
   ]
  },
  {
   "cell_type": "code",
   "execution_count": null,
   "metadata": {},
   "outputs": [],
   "source": [
    "unemp_df = pd.read_csv(\"data/unemployment_rate.csv\", sep=\";\")\n",
    "unemp_df.head()"
   ]
  },
  {
   "cell_type": "code",
   "execution_count": null,
   "metadata": {},
   "outputs": [],
   "source": [
    "plt.figure( figsize=(12,6) )\n",
    "#plt.plot(busi_oecd_norm_quarter.busi_norm.values, color=\"red\", label=\"BCI\")\n",
    "#plt.plot(cons_oecd_norm_quarter.cons_norm.values, color=\"green\", label=\"CCI\")\n",
    "plt.plot(unemp_df.unemp.values, color=\"blue\")\n",
    "\n",
    "\n",
    "plt.xticks( range(0,82, 4), [\"Q1-%s\"%year for year in range(2000,2021)], rotation='vertical')\n",
    "#plt.legend()\n",
    "plt.savefig(\"Redaction\\pics\\\\unemp.png\")\n",
    "plt.show()"
   ]
  },
  {
   "cell_type": "code",
   "execution_count": null,
   "metadata": {},
   "outputs": [],
   "source": [
    "unemp_df.tail()"
   ]
  }
 ],
 "metadata": {
  "kernelspec": {
   "display_name": "Python 3",
   "language": "python",
   "name": "python3"
  },
  "language_info": {
   "codemirror_mode": {
    "name": "ipython",
    "version": 3
   },
   "file_extension": ".py",
   "mimetype": "text/x-python",
   "name": "python",
   "nbconvert_exporter": "python",
   "pygments_lexer": "ipython3",
   "version": "3.8.5"
  },
  "toc": {
   "base_numbering": 1,
   "nav_menu": {},
   "number_sections": true,
   "sideBar": true,
   "skip_h1_title": false,
   "title_cell": "Table of Contents",
   "title_sidebar": "Contents",
   "toc_cell": true,
   "toc_position": {},
   "toc_section_display": true,
   "toc_window_display": false
  }
 },
 "nbformat": 4,
 "nbformat_minor": 4
}
